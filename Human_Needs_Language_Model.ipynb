{
  "nbformat": 4,
  "nbformat_minor": 0,
  "metadata": {
    "colab": {
      "name": "Human_Needs_Language_Model.ipynb",
      "private_outputs": true,
      "provenance": [],
      "collapsed_sections": [],
      "authorship_tag": "ABX9TyOGwqowm7kaq1kjGNAzGJA/",
      "include_colab_link": true
    },
    "kernelspec": {
      "name": "python3",
      "display_name": "Python 3"
    },
    "language_info": {
      "name": "python"
    },
    "accelerator": "GPU"
  },
  "cells": [
    {
      "cell_type": "markdown",
      "metadata": {
        "id": "view-in-github",
        "colab_type": "text"
      },
      "source": [
        "<a href=\"https://colab.research.google.com/github/JasperLS/Human_Needs_Language_Model/blob/main/Human_Needs_Language_Model.ipynb\" target=\"_parent\"><img src=\"https://colab.research.google.com/assets/colab-badge.svg\" alt=\"Open In Colab\"/></a>"
      ]
    },
    {
      "cell_type": "code",
      "metadata": {
        "id": "ZrFY1map5wFz"
      },
      "source": [
        "%%capture\n",
        "!pip install ktrain"
      ],
      "execution_count": null,
      "outputs": []
    },
    {
      "cell_type": "code",
      "metadata": {
        "id": "O0glysnj4y5Z"
      },
      "source": [
        "import os, ktrain\n",
        "import pandas as pd\n",
        "import numpy as np\n",
        "from pydrive.auth import GoogleAuth\n",
        "from pydrive.drive import GoogleDrive\n",
        "from google.colab import auth\n",
        "from oauth2client.client import GoogleCredentials\n",
        "from tqdm import tqdm\n",
        "print('\\n successfully executed, please proceed with next step\\n')"
      ],
      "execution_count": null,
      "outputs": []
    },
    {
      "cell_type": "code",
      "metadata": {
        "id": "wxKL421Q4txr"
      },
      "source": [
        "auth.authenticate_user()\n",
        "gauth = GoogleAuth()\n",
        "gauth.credentials = GoogleCredentials.get_application_default()\n",
        "drive = GoogleDrive(gauth)\n",
        "print('\\n successfully executed, please proceed with next step\\n')"
      ],
      "execution_count": null,
      "outputs": []
    },
    {
      "cell_type": "code",
      "metadata": {
        "id": "eU2dqORy4nZh"
      },
      "source": [
        "# This will take a few minutes!!\n",
        "\n",
        "os.makedirs('/content/downloads/', exist_ok=True)\n",
        "os.chdir('/content/downloads/')\n",
        "\n",
        "folder_id = '1kYgvTOAUPA11oE2plZEaDiYGyrtLfM8X'\n",
        "file_list = drive.ListFile({'q': \"'{}' in parents and trashed=false\".format(folder_id)}).GetList()\n",
        "for file in tqdm(file_list):\n",
        "    file.GetContentFile(file['title'])\n",
        "\n",
        "os.chdir('/content/')\n",
        "print('\\n successfully executed, please proceed with next step\\n')"
      ],
      "execution_count": null,
      "outputs": []
    },
    {
      "cell_type": "code",
      "metadata": {
        "id": "HYw9KMK35kIp"
      },
      "source": [
        "needs = ['Autonomy','Competence','Self-esteem','Money-luxury',\n",
        "         'Physical-thriving','Pleasure','Popularity-influence',\n",
        "         'Relatedness','Security','Self-actualization']\n",
        "model = ktrain.load_predictor('/content/downloads/')\n",
        "print('\\n successfully executed, please proceed with next step\\n')"
      ],
      "execution_count": null,
      "outputs": []
    },
    {
      "cell_type": "markdown",
      "metadata": {
        "id": "tSDnQ94o9WCW"
      },
      "source": [
        "**You may add different texts below, to check language model performance**"
      ]
    },
    {
      "cell_type": "code",
      "metadata": {
        "id": "SeJQaoQ46fNJ"
      },
      "source": [
        "text = ['swimming','new gucci bag','pray in church'] #change texts here\n",
        "\n",
        "pd.DataFrame(model.predict(text,return_proba = True).T,index=needs,columns=text).round(3)"
      ],
      "execution_count": null,
      "outputs": []
    }
  ]
}